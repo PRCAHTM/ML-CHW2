{
  "cells": [
    {
      "cell_type": "markdown",
      "metadata": {
        "id": "ChC3RF8meAlK"
      },
      "source": [
        "<h1 align=\"center\">Introduction to Machine Learning - 25737-2</h1>\n",
        "<h4 align=\"center\">Dr. R. Amiri</h4>\n",
        "<h4 align=\"center\">Sharif University of Technology, Spring 2024</h4>\n",
        "\n",
        "\n",
        "**<font color='red'>Plagiarism is strongly prohibited!</font>**\n",
        "\n",
        "\n",
        "**Student Name**: Parsa Hatami\n",
        "\n",
        "**Student ID**: 400100962\n",
        "\n",
        "\n",
        "\n"
      ]
    },
    {
      "cell_type": "markdown",
      "metadata": {
        "id": "IraiR0SbeDi_"
      },
      "source": [
        "# Logistic Regression"
      ]
    },
    {
      "cell_type": "markdown",
      "metadata": {
        "id": "nRQjwWC3eDnc"
      },
      "source": [
        "**Task:** Implement your own Logistic Regression model, and test it on the given dataset of Logistic_question.csv!"
      ]
    },
    {
      "cell_type": "code",
      "execution_count": 2,
      "metadata": {},
      "outputs": [],
      "source": [
        "# import necessary libraries\n",
        "\n",
        "import numpy as np\n",
        "import pandas as pd\n",
        "import matplotlib.pyplot as plt\n",
        "from sklearn.model_selection import train_test_split\n",
        "from sklearn.preprocessing import StandardScaler\n",
        "from sklearn.metrics import accuracy_score, precision_score, recall_score, f1_score\n",
        "from sklearn.linear_model import LogisticRegression"
      ]
    },
    {
      "cell_type": "code",
      "execution_count": 3,
      "metadata": {},
      "outputs": [],
      "source": [
        "class MyLogisticRegression:\n",
        "    def __init__(self, lr=0.01, num_iter=100000, fit_intercept=True, verbose=False):\n",
        "        self.lr = lr\n",
        "        self.num_iter = num_iter\n",
        "        self.fit_intercept = fit_intercept\n",
        "        self.verbose = verbose\n",
        "    \n",
        "    def __add_intercept(self, X):\n",
        "        intercept = np.ones((X.shape[0], 1))\n",
        "        return np.concatenate((intercept, X), axis=1)\n",
        "    \n",
        "    def __sigmoid(self, z):\n",
        "        return 1 / (1 + np.exp(-z))\n",
        "    \n",
        "    def __loss(self, h, y):\n",
        "        return (-y * np.log(h) - (1 - y) * np.log(1 - h)).mean()\n",
        "    \n",
        "    def fit(self, X, y):\n",
        "        if self.fit_intercept:\n",
        "            X = self.__add_intercept(X)\n",
        "        \n",
        "        self.theta = np.zeros(X.shape[1])\n",
        "        \n",
        "        for i in range(self.num_iter):\n",
        "            z = np.dot(X, self.theta)\n",
        "            h = self.__sigmoid(z)\n",
        "            gradient = np.dot(X.T, (h - y)) / y.size\n",
        "            self.theta -= self.lr * gradient\n",
        "            \n",
        "            if(self.verbose == True and i % 10000 == 0):\n",
        "                z = np.dot(X, self.theta)\n",
        "                h = self.__sigmoid(z)\n",
        "                print(f'loss: {self.__loss(h, y)} \\t')\n",
        "    \n",
        "    def predict_prob(self, X):\n",
        "        if self.fit_intercept:\n",
        "            X = self.__add_intercept(X)\n",
        "    \n",
        "        return self.__sigmoid(np.dot(X, self.theta))\n",
        "    \n",
        "    def predict(self, X, threshold):\n",
        "        return self.predict_prob(X) >= threshold"
      ]
    },
    {
      "cell_type": "code",
      "execution_count": 4,
      "metadata": {},
      "outputs": [],
      "source": [
        "# Load data\n",
        "data = pd.read_csv('Q2\\Logistic_question.csv')\n",
        "X = data.iloc[:, :-1].values\n",
        "y = data.iloc[:, -1].values\n",
        "model = MyLogisticRegression(lr=0.1, num_iter=300000)\n",
        "model.fit(X, y)\n",
        "\n",
        "predictions = model.predict(X, 0.5)"
      ]
    },
    {
      "cell_type": "markdown",
      "metadata": {
        "id": "S-i-oubUlZ6e"
      },
      "source": [
        "**Task:** Test your model on the given dataset. You must split your data into train and test, with a 0.2 split, then normalize your data using X_train data. Finally, report 4 different evaluation metrics of the model on the test set. (You might want to first make the Target column binary!)"
      ]
    },
    {
      "cell_type": "code",
      "execution_count": 6,
      "metadata": {
        "colab": {
          "base_uri": "https://localhost:8080/"
        },
        "id": "0KXzIy_2u-pG",
        "outputId": "9625f7e2-abb1-4591-c0fa-843525e0ffd6"
      },
      "outputs": [
        {
          "name": "stdout",
          "output_type": "stream",
          "text": [
            "Accuracy:  0.925\n",
            "Precision:  0.9571428571428572\n",
            "Recall:  0.9571428571428572\n",
            "F1 Score:  0.9571428571428572\n"
          ]
        }
      ],
      "source": [
        "# Your code goes here!\n",
        "\n",
        "#data['Target'] = (data['Target'] > 0).astype(int)\n",
        "data['Target'] = np.where(data['Target'] > 0.5, 1, 0)\n",
        "\n",
        "X = data.drop('Target', axis=1).values\n",
        "y = data['Target'].values\n",
        "\n",
        "X_train, X_test, y_train, y_test = train_test_split(X, y, test_size=0.2, random_state=42)\n",
        "\n",
        "# Normalize\n",
        "scaler = StandardScaler().fit(X_train)\n",
        "X_train = scaler.transform(X_train)\n",
        "X_test = scaler.transform(X_test)\n",
        "\n",
        "model = MyLogisticRegression(lr=0.01, num_iter=1000000)\n",
        "model.fit(X_train, y_train)\n",
        "\n",
        "y_pred_prob = model.predict_prob(X_test)\n",
        "threshold = 0.5 if np.mean(y_pred_prob) < 0.7 else 0.7\n",
        "y_pred = y_pred_prob >= threshold\n",
        "\n",
        "print(\"Accuracy: \", accuracy_score(y_test, y_pred))\n",
        "print(\"Precision: \", precision_score(y_test, y_pred))\n",
        "print(\"Recall: \", recall_score(y_test, y_pred))\n",
        "print(\"F1 Score: \", f1_score(y_test, y_pred))"
      ]
    },
    {
      "cell_type": "code",
      "execution_count": 8,
      "metadata": {},
      "outputs": [
        {
          "name": "stdout",
          "output_type": "stream",
          "text": [
            "Best Threshold:  0.43\n",
            "Accuracy:  0.9333333333333333\n",
            "Precision:  0.9310344827586207\n",
            "Recall:  1.0\n",
            "F1 Score:  0.9642857142857143\n"
          ]
        }
      ],
      "source": [
        "# Your code goes here!\n",
        "\n",
        "#data['Target'] = (data['Target'] > 0).astype(int)\n",
        "data['Target'] = np.where(data['Target'] > 0.5, 1, 0)\n",
        "\n",
        "X = data.drop('Target', axis=1).values\n",
        "y = data['Target'].values\n",
        "\n",
        "X_train, X_temp, y_train, y_temp = train_test_split(X, y, test_size=0.3, random_state=42)\n",
        "X_val, X_test, y_val, y_test = train_test_split(X_temp, y_temp, test_size=0.5, random_state=42)\n",
        "\n",
        "# Normalize\n",
        "scaler = StandardScaler().fit(X_train)\n",
        "X_train = scaler.transform(X_train)\n",
        "X_val = scaler.transform(X_val)\n",
        "X_test = scaler.transform(X_test)\n",
        "\n",
        "model = MyLogisticRegression(lr=0.01, num_iter=1000000)\n",
        "model.fit(X_train, y_train)\n",
        "\n",
        "y_val_pred_prob = model.predict_prob(X_val)\n",
        "\n",
        "# Try different threshold values\n",
        "thresholds = np.arange(0, 1, 0.01)\n",
        "best_threshold = 0\n",
        "best_score = 0\n",
        "for threshold in thresholds:\n",
        "    y_val_pred = y_val_pred_prob >= threshold\n",
        "    score = f1_score(y_val, y_val_pred)\n",
        "    if score > best_score:\n",
        "        best_score = score\n",
        "        best_threshold = threshold\n",
        "\n",
        "# Use the best threshold to make predictions on the test set\n",
        "y_pred_prob = model.predict_prob(X_test)\n",
        "y_pred = y_pred_prob >= best_threshold\n",
        "\n",
        "print(\"Best Threshold: \", best_threshold)\n",
        "print(\"Accuracy: \", accuracy_score(y_test, y_pred))\n",
        "print(\"Precision: \", precision_score(y_test, y_pred))\n",
        "print(\"Recall: \", recall_score(y_test, y_pred))\n",
        "print(\"F1 Score: \", f1_score(y_test, y_pred))"
      ]
    },
    {
      "cell_type": "markdown",
      "metadata": {
        "id": "Ji0RXNGKv1pa"
      },
      "source": [
        "**Question:** What are each of your used evaluation metrics? And for each one, mention situations in which they convey more data on the model performance in specific tasks."
      ]
    },
    {
      "cell_type": "markdown",
      "metadata": {
        "id": "ldveD35twRRZ"
      },
      "source": [
        "**Your answer:**\n",
        "1. **Accuracy**: This is the ratio of correct predictions to the total number of predictions. It's a good general-purpose metric for classification tasks. However, it can be misleading if the classes are imbalanced. For example, if 95% of your data belongs to class A, a model that always predicts class A will have 95% accuracy, but it's not a good model.\n",
        "\n",
        "2. **Precision**: This is the ratio of true positive predictions (correctly predicted positives) to all positive predictions (both correctly and incorrectly predicted positives). Precision is a good metric to use when the cost of a false positive is high. For example, in email spam detection, you'd want high precision because falsely classifying a legitimate email as spam (a false positive) could cause the user to miss important emails.\n",
        "\n",
        "3. **Recall (Sensitivity)**: This is the ratio of true positive predictions to all actual positives. Recall is a good metric to use when the cost of a false negative is high. For example, in medical diagnosis, you'd want high recall because failing to diagnose a disease when the patient actually has it (a false negative) could have serious consequences.\n",
        "\n",
        "4. **F1 Score**: This is the harmonic mean of precision and recall. It tries to balance the two and is a good metric to use when you want to optimize both precision and recall. For example, in information retrieval tasks (like search engines), you'd want both high precision (to ensure the results are relevant) and high recall (to ensure you're not missing any relevant results), so F1 score would be a good metric to optimize."
      ]
    },
    {
      "cell_type": "markdown",
      "metadata": {
        "id": "1ZCeRHZSw-mh"
      },
      "source": [
        "**Task:** Now test the built-in function of Python for Logistic Regression, and report all the same metrics used before."
      ]
    },
    {
      "cell_type": "code",
      "execution_count": 9,
      "metadata": {
        "id": "Vb5lRSQXDLR3"
      },
      "outputs": [
        {
          "name": "stdout",
          "output_type": "stream",
          "text": [
            "Best Threshold:  0.47000000000000003\n",
            "Accuracy:  0.9166666666666666\n",
            "Precision:  0.9152542372881356\n",
            "Recall:  1.0\n",
            "F1 Score:  0.9557522123893806\n"
          ]
        }
      ],
      "source": [
        "from sklearn.linear_model import LogisticRegression\n",
        "\n",
        "# Your code goes here!\n",
        "\n",
        "#data['Target'] = (data['Target'] > 0).astype(int)\n",
        "data['Target'] = np.where(data['Target'] > 0.5, 1, 0)\n",
        "\n",
        "X = data.drop('Target', axis=1).values\n",
        "y = data['Target'].values\n",
        "\n",
        "X_train, X_temp, y_train, y_temp = train_test_split(X, y, test_size=0.3, random_state=42)\n",
        "X_val, X_test, y_val, y_test = train_test_split(X_temp, y_temp, test_size=0.5, random_state=42)\n",
        "\n",
        "# Normalize\n",
        "scaler = StandardScaler().fit(X_train)\n",
        "X_train = scaler.transform(X_train)\n",
        "X_val = scaler.transform(X_val)\n",
        "X_test = scaler.transform(X_test)\n",
        "\n",
        "model = LogisticRegression()\n",
        "model.fit(X_train, y_train)\n",
        "\n",
        "y_val_pred_prob = model.predict_proba(X_val)[:, 1]\n",
        "\n",
        "# Try different threshold values\n",
        "thresholds = np.arange(0, 1, 0.01)\n",
        "best_threshold = 0\n",
        "best_score = 0\n",
        "for threshold in thresholds:\n",
        "    y_val_pred = y_val_pred_prob >= threshold\n",
        "    score = f1_score(y_val, y_val_pred)\n",
        "    if score > best_score:\n",
        "        best_score = score\n",
        "        best_threshold = threshold\n",
        "\n",
        "# Use the best threshold to make predictions on the test set\n",
        "y_pred_prob = model.predict_proba(X_test)[:, 1]\n",
        "y_pred = y_pred_prob >= best_threshold\n",
        "\n",
        "print(\"Best Threshold: \", best_threshold)\n",
        "print(\"Accuracy: \", accuracy_score(y_test, y_pred))\n",
        "print(\"Precision: \", precision_score(y_test, y_pred))\n",
        "print(\"Recall: \", recall_score(y_test, y_pred))\n",
        "print(\"F1 Score: \", f1_score(y_test, y_pred))"
      ]
    },
    {
      "cell_type": "markdown",
      "metadata": {},
      "source": [
        "now test with the same threshold as the previous part for comparing methods with same thresholds"
      ]
    },
    {
      "cell_type": "code",
      "execution_count": 11,
      "metadata": {},
      "outputs": [
        {
          "name": "stdout",
          "output_type": "stream",
          "text": [
            "Accuracy:  0.9166666666666666\n",
            "Precision:  0.9152542372881356\n",
            "Recall:  1.0\n",
            "F1 Score:  0.9557522123893806\n"
          ]
        }
      ],
      "source": [
        "from sklearn.linear_model import LogisticRegression\n",
        "\n",
        "# Your code goes here!\n",
        "\n",
        "#data['Target'] = (data['Target'] > 0).astype(int)\n",
        "data['Target'] = np.where(data['Target'] > 0.5, 1, 0)\n",
        "\n",
        "X = data.drop('Target', axis=1).values\n",
        "y = data['Target'].values\n",
        "\n",
        "X_train, X_temp, y_train, y_temp = train_test_split(X, y, test_size=0.3, random_state=42)\n",
        "X_val, X_test, y_val, y_test = train_test_split(X_temp, y_temp, test_size=0.5, random_state=42)\n",
        "\n",
        "# Normalize\n",
        "scaler = StandardScaler().fit(X_train)\n",
        "X_train = scaler.transform(X_train)\n",
        "X_val = scaler.transform(X_val)\n",
        "X_test = scaler.transform(X_test)\n",
        "\n",
        "model = LogisticRegression()\n",
        "model.fit(X_train, y_train)\n",
        "\n",
        "y_val_pred_prob = model.predict_proba(X_val)[:, 1]\n",
        "\n",
        "# Try different threshold values\n",
        "thresholds = np.arange(0, 1, 0.01)\n",
        "best_threshold = 0.43\n",
        "best_score = 0\n",
        "\n",
        "# Use the best threshold to make predictions on the test set\n",
        "y_pred_prob = model.predict_proba(X_test)[:, 1]\n",
        "y_pred = y_pred_prob >= best_threshold\n",
        "\n",
        "print(\"Accuracy: \", accuracy_score(y_test, y_pred))\n",
        "print(\"Precision: \", precision_score(y_test, y_pred))\n",
        "print(\"Recall: \", recall_score(y_test, y_pred))\n",
        "print(\"F1 Score: \", f1_score(y_test, y_pred))"
      ]
    },
    {
      "cell_type": "markdown",
      "metadata": {
        "id": "RCvIymmMy_ji"
      },
      "source": [
        "**Question:** Compare your function with the built-in function. On the matters of performance and parameters. Briefly explain what the parameters of the built-in function are and how they affect the model's performance?"
      ]
    },
    {
      "cell_type": "markdown",
      "metadata": {
        "id": "EY0ohM16z3De"
      },
      "source": [
        "**Your answer:**\n",
        "The performance of my function and the built-in function are quite similar, but my function has a slightly higher accuracy, precision, and F1 score. This could be due to differences in the implementation of the logistic regression algorithm, the optimization method used, or the default parameters of the built-in function.\n",
        "\n",
        "The built-in `LogisticRegression` function in sklearn has several parameters that can affect the model's performance:\n",
        "\n",
        "- `penalty`: This is used to specify the norm used in the penalization (regularization). The 'newton-cg', 'sag' and 'lbfgs' solvers support only l2 penalties. 'elasticnet' is only supported by the 'saga' solver. If 'none' (not supported by the liblinear solver), no regularization is applied.\n",
        "\n",
        "- `dual`: This parameter is Dual or primal formulation. Dual formulation is only implemented for l2 penalty with liblinear solver. Prefer dual=False when n_samples > n_features.\n",
        "\n",
        "- `tol`: This is the tolerance for stopping criteria. This tells the algorithm to stop searching for a minimum (or maximum) once the function value changes less than a specific amount (the tol value) after one iteration.\n",
        "\n",
        "- `C`: This is the inverse of regularization strength; must be a positive float. Like in support vector machines, smaller values specify stronger regularization.\n",
        "\n",
        "- `fit_intercept`: Specifies if a constant (a.k.a. bias or intercept) should be added to the decision function.\n",
        "\n",
        "- `intercept_scaling`: Useful only when the solver 'liblinear' is used and self.fit_intercept is set to True. In this case, x becomes [x, self.intercept_scaling], i.e. a \"synthetic\" feature with constant value equal to intercept_scaling is appended to the instance vector. The intercept becomes intercept_scaling * synthetic_feature_weight.\n",
        "\n",
        "- `class_weight`: Weights associated with classes in the form {class_label: weight}. If not given, all classes are supposed to have weight one. The \"balanced\" mode uses the values of y to automatically adjust weights inversely proportional to class frequencies in the input data as n_samples / (n_classes * np.bincount(y)).\n",
        "\n",
        "- `random_state`: The seed of the pseudo random number generator to use when shuffling the data.\n",
        "\n",
        "- `solver`: Algorithm to use in the optimization problem. For small datasets, 'liblinear' is a good choice, whereas 'sag' and 'saga' are faster for large ones. For multiclass problems, only 'newton-cg', 'sag', 'saga' and 'lbfgs' handle multinomial loss; 'liblinear' is limited to one-versus-rest schemes.\n",
        "\n",
        "- `max_iter`: Maximum number of iterations taken for the solvers to converge.\n",
        "\n",
        "- `multi_class`: If the option chosen is 'ovr', then a binary problem is fit for each label. For 'multinomial' the loss minimizes the multinomial loss fit across the entire probability distribution, even when the data is binary. 'multinomial' is unavailable when solver='liblinear'. 'auto' selects 'ovr' if the data is binary, or if solver='liblinear', and otherwise selects 'multinomial'.\n",
        "\n",
        "- `verbose`: For the liblinear and lbfgs solvers set verbose to any positive number for verbosity.\n",
        "\n",
        "- `warm_start`: If set to True, reuse the solution of the previous call to fit as initialization, otherwise, just erase the previous solution. Useless for liblinear solver.\n",
        "\n",
        "- `n_jobs`: Number of CPU cores used when parallelizing over classes if multi_class='ovr'\". This parameter is ignored when the solver is set to 'liblinear' regardless of whether 'multi_class' is specified or not. If given a value of -1, all processors are used.\n",
        "\n",
        "- `l1_ratio`: The Elastic-Net mixing parameter, with 0 <= l1_ratio <= 1. Only used if penalty='elasticnet'. Setting l1_ratio=0 is equivalent to using penalty='l2', while setting l1_ratio=1 is equivalent to using penalty='l1'. For 0 < l1_ratio <1, the penalty is a combination of L1 and L2.\n",
        "\n",
        "These parameters can be tuned to improve the performance of the model. However, it's important to note that increasing the model's complexity (e.g., by decreasing the regularization strength) can lead to overfitting, where the model performs well on the training data but poorly on new, unseen data."
      ]
    },
    {
      "cell_type": "markdown",
      "metadata": {
        "id": "ClMqoYlr2kr7"
      },
      "source": [
        "# Multinomial Logistic Regression"
      ]
    },
    {
      "cell_type": "markdown",
      "metadata": {
        "id": "ukvlqDe52xP5"
      },
      "source": [
        "**Task:** Implement your own Multinomial Logistic Regression model. Your model must be able to handle any number of labels!"
      ]
    },
    {
      "cell_type": "code",
      "execution_count": 13,
      "metadata": {
        "id": "5Ir-_hFt286t"
      },
      "outputs": [],
      "source": [
        "class MyMultinomialLogisticRegression:\n",
        "    def __init__(self, learning_rate=0.01, epochs=1000):\n",
        "        self.learning_rate = learning_rate\n",
        "        self.epochs = epochs\n",
        "        self.weights = None\n",
        "        self.bias = None\n",
        "\n",
        "    def softmax(self, z):\n",
        "        e = np.exp(z - np.max(z))\n",
        "        return e / np.sum(e, axis=1, keepdims=True)\n",
        "\n",
        "    def loss(self, h, y):\n",
        "        return (-y * np.log(h)).mean()\n",
        "\n",
        "    def fit(self, X, y):\n",
        "        num_samples, num_features = X.shape\n",
        "        num_classes = len(np.unique(y))\n",
        "\n",
        "        self.weights = np.zeros((num_features, num_classes))\n",
        "        self.bias = np.zeros((1, num_classes))\n",
        "\n",
        "        y_encoded = np.zeros((num_samples, num_classes))\n",
        "        y_encoded[np.arange(num_samples), y] = 1\n",
        "\n",
        "        for i in range(self.epochs):\n",
        "            linear_model = np.dot(X, self.weights) + self.bias\n",
        "            y_predicted = self.softmax(linear_model)\n",
        "\n",
        "            gradient_w = (1 / num_samples) * np.dot(X.T, (y_predicted - y_encoded))\n",
        "            gradient_b = (1 / num_samples) * np.sum(y_predicted - y_encoded, axis=0)\n",
        "\n",
        "            self.weights -= self.learning_rate * gradient_w\n",
        "            self.bias -= self.learning_rate * gradient_b\n",
        "\n",
        "            if i % 100 == 0:\n",
        "                h = self.softmax(np.dot(X, self.weights) + self.bias)\n",
        "                print(f'loss: {self.loss(h, y_encoded)} \\t')\n",
        "\n",
        "    def predict(self, X):\n",
        "        linear_model = np.dot(X, self.weights) + self.bias\n",
        "        y_predicted = self.softmax(linear_model)\n",
        "        return np.argmax(y_predicted, axis=1)"
      ]
    },
    {
      "cell_type": "markdown",
      "metadata": {
        "id": "zPQ3Rtay3Y2_"
      },
      "source": [
        "**Task:** Test your model on the given dataset. Do the same as the previous part, but here you might want to first make the Target column quantized into $i$ levels. Change $i$ from 2 to 10."
      ]
    },
    {
      "cell_type": "code",
      "execution_count": 14,
      "metadata": {
        "id": "9aP4QJPq29B3"
      },
      "outputs": [
        {
          "name": "stdout",
          "output_type": "stream",
          "text": [
            "loss: 0.34189943751907315 \t\n",
            "loss: 0.2167045223666772 \t\n",
            "loss: 0.19424229696407083 \t\n",
            "loss: 0.18266524045827803 \t\n",
            "loss: 0.17547748292580692 \t\n",
            "loss: 0.17065716122699479 \t\n",
            "loss: 0.16725363425823372 \t\n",
            "loss: 0.1647529290011788 \t\n",
            "loss: 0.16285593160674108 \t\n",
            "loss: 0.1613788710202267 \t\n",
            "Accuracy (Multinomial Logistic Regression, 2 levels): 0.8750\n",
            "Precision (Multinomial Logistic Regression, 2 levels): 0.8746\n",
            "Recall (Multinomial Logistic Regression, 2 levels): 0.8750\n",
            "F1-score (Multinomial Logistic Regression, 2 levels): 0.8723\n",
            "loss: 0.3625432552136848 \t\n",
            "loss: 0.23672519325207678 \t\n",
            "loss: 0.21230077651921525 \t\n",
            "loss: 0.20045339318881605 \t\n",
            "loss: 0.19279794521680327 \t\n",
            "loss: 0.18722633511849873 \t\n",
            "loss: 0.18291071134039688 \t\n",
            "loss: 0.1794365569545727 \t\n",
            "loss: 0.17656399334695275 \t\n",
            "loss: 0.17414072387999283 \t\n",
            "Accuracy (Multinomial Logistic Regression, 3 levels): 0.7500\n",
            "Precision (Multinomial Logistic Regression, 3 levels): 0.7909\n",
            "Recall (Multinomial Logistic Regression, 3 levels): 0.7500\n",
            "F1-score (Multinomial Logistic Regression, 3 levels): 0.7015\n",
            "loss: 0.3445795438378433 \t\n",
            "loss: 0.25784550263588885 \t\n",
            "loss: 0.2321112846302043 \t\n",
            "loss: 0.21697031510725476 \t\n",
            "loss: 0.20629460071781058 \t\n",
            "loss: 0.1982855311858521 \t\n",
            "loss: 0.1920583165170598 \t\n",
            "loss: 0.18707983590941488 \t\n",
            "loss: 0.18300490801946384 \t\n",
            "loss: 0.17960199683078032 \t\n",
            "Accuracy (Multinomial Logistic Regression, 4 levels): 0.6375\n",
            "Precision (Multinomial Logistic Regression, 4 levels): 0.5793\n",
            "Recall (Multinomial Logistic Regression, 4 levels): 0.6375\n",
            "F1-score (Multinomial Logistic Regression, 4 levels): 0.6010\n",
            "loss: 0.3204460772026341 \t\n",
            "loss: 0.2500598056733988 \t\n",
            "loss: 0.22752944940114303 \t\n",
            "loss: 0.21471091679346485 \t\n",
            "loss: 0.20572104619122833 \t\n",
            "loss: 0.19886820318777304 \t\n",
            "loss: 0.19340793754485805 \t\n",
            "loss: 0.1889277583989327 \t\n",
            "loss: 0.18516933733088636 \t\n",
            "loss: 0.1819594107400106 \t\n",
            "Accuracy (Multinomial Logistic Regression, 5 levels): 0.6375\n",
            "Precision (Multinomial Logistic Regression, 5 levels): 0.5675\n",
            "Recall (Multinomial Logistic Regression, 5 levels): 0.6375\n",
            "F1-score (Multinomial Logistic Regression, 5 levels): 0.5988\n",
            "loss: 0.29755438071624274 \t\n",
            "loss: 0.2407765585486087 \t\n",
            "loss: 0.22146375927491457 \t\n",
            "loss: 0.2108175772410217 \t\n",
            "loss: 0.20347806759899606 \t\n",
            "loss: 0.19787813689339778 \t\n",
            "loss: 0.19336483513668143 \t\n",
            "loss: 0.1896019460023585 \t\n",
            "loss: 0.1863915366510413 \t\n",
            "loss: 0.18360589429406643 \t\n",
            "Accuracy (Multinomial Logistic Regression, 6 levels): 0.5000\n",
            "Precision (Multinomial Logistic Regression, 6 levels): 0.4200\n",
            "Recall (Multinomial Logistic Regression, 6 levels): 0.5000\n",
            "F1-score (Multinomial Logistic Regression, 6 levels): 0.4555\n",
            "loss: 0.2771945497236427 \t\n",
            "loss: 0.2313129846296826 \t\n",
            "loss: 0.2135007941353879 \t\n",
            "loss: 0.20306837852991663 \t\n",
            "loss: 0.19558994758162632 \t\n",
            "loss: 0.1897576297072079 \t\n",
            "loss: 0.18501400215081482 \t\n",
            "loss: 0.18105681875085947 \t\n",
            "loss: 0.17769628699972695 \t\n",
            "loss: 0.17480203982470796 \t\n"
          ]
        },
        {
          "name": "stderr",
          "output_type": "stream",
          "text": [
            "c:\\Users\\ASUS\\anaconda3\\lib\\site-packages\\sklearn\\metrics\\_classification.py:1318: UndefinedMetricWarning: Precision is ill-defined and being set to 0.0 in labels with no predicted samples. Use `zero_division` parameter to control this behavior.\n",
            "  _warn_prf(average, modifier, msg_start, len(result))\n",
            "c:\\Users\\ASUS\\anaconda3\\lib\\site-packages\\sklearn\\metrics\\_classification.py:1318: UndefinedMetricWarning: Precision is ill-defined and being set to 0.0 in labels with no predicted samples. Use `zero_division` parameter to control this behavior.\n",
            "  _warn_prf(average, modifier, msg_start, len(result))\n",
            "c:\\Users\\ASUS\\anaconda3\\lib\\site-packages\\sklearn\\metrics\\_classification.py:1318: UndefinedMetricWarning: Precision is ill-defined and being set to 0.0 in labels with no predicted samples. Use `zero_division` parameter to control this behavior.\n",
            "  _warn_prf(average, modifier, msg_start, len(result))\n",
            "c:\\Users\\ASUS\\anaconda3\\lib\\site-packages\\sklearn\\metrics\\_classification.py:1318: UndefinedMetricWarning: Precision is ill-defined and being set to 0.0 in labels with no predicted samples. Use `zero_division` parameter to control this behavior.\n",
            "  _warn_prf(average, modifier, msg_start, len(result))\n",
            "c:\\Users\\ASUS\\anaconda3\\lib\\site-packages\\sklearn\\metrics\\_classification.py:1318: UndefinedMetricWarning: Precision is ill-defined and being set to 0.0 in labels with no predicted samples. Use `zero_division` parameter to control this behavior.\n",
            "  _warn_prf(average, modifier, msg_start, len(result))\n",
            "c:\\Users\\ASUS\\anaconda3\\lib\\site-packages\\sklearn\\metrics\\_classification.py:1318: UndefinedMetricWarning: Precision is ill-defined and being set to 0.0 in labels with no predicted samples. Use `zero_division` parameter to control this behavior.\n",
            "  _warn_prf(average, modifier, msg_start, len(result))\n"
          ]
        },
        {
          "name": "stdout",
          "output_type": "stream",
          "text": [
            "Accuracy (Multinomial Logistic Regression, 7 levels): 0.5250\n",
            "Precision (Multinomial Logistic Regression, 7 levels): 0.5380\n",
            "Recall (Multinomial Logistic Regression, 7 levels): 0.5250\n",
            "F1-score (Multinomial Logistic Regression, 7 levels): 0.4869\n",
            "loss: 0.25932538572159214 \t\n",
            "loss: 0.22229153295338472 \t\n",
            "loss: 0.20669521098725285 \t\n",
            "loss: 0.19759697497213632 \t\n",
            "loss: 0.19118499096203262 \t\n",
            "loss: 0.18623059616167714 \t\n",
            "loss: 0.18220675278165627 \t\n",
            "loss: 0.17883645358331018 \t\n",
            "loss: 0.17595344567324442 \t\n",
            "loss: 0.17344854815104846 \t\n",
            "Accuracy (Multinomial Logistic Regression, 8 levels): 0.4625\n",
            "Precision (Multinomial Logistic Regression, 8 levels): 0.3872\n",
            "Recall (Multinomial Logistic Regression, 8 levels): 0.4625\n",
            "F1-score (Multinomial Logistic Regression, 8 levels): 0.3793\n",
            "loss: 0.24363099634333787 \t\n",
            "loss: 0.21127971814832014 \t\n",
            "loss: 0.19700358326468717 \t\n",
            "loss: 0.1886309529667605 \t\n",
            "loss: 0.1826998763396162 \t\n",
            "loss: 0.17808485317007836 \t\n",
            "loss: 0.17430730612438192 \t\n",
            "loss: 0.1711175811459443 \t\n",
            "loss: 0.16836707999561534 \t\n",
            "loss: 0.16595903828852215 \t\n",
            "Accuracy (Multinomial Logistic Regression, 9 levels): 0.4250\n",
            "Precision (Multinomial Logistic Regression, 9 levels): 0.2878\n",
            "Recall (Multinomial Logistic Regression, 9 levels): 0.4250\n",
            "F1-score (Multinomial Logistic Regression, 9 levels): 0.3290\n",
            "loss: 0.2298558779773889 \t\n",
            "loss: 0.20291954558023612 \t\n",
            "loss: 0.19014631387716258 \t\n",
            "loss: 0.18245480111062598 \t\n",
            "loss: 0.17693838282486685 \t\n",
            "loss: 0.17261248210242944 \t\n",
            "loss: 0.16905770389111402 \t\n",
            "loss: 0.1660545334576091 \t\n",
            "loss: 0.16347034089467627 \t\n",
            "loss: 0.16121665336674304 \t\n",
            "Accuracy (Multinomial Logistic Regression, 10 levels): 0.3625\n",
            "Precision (Multinomial Logistic Regression, 10 levels): 0.2621\n",
            "Recall (Multinomial Logistic Regression, 10 levels): 0.3625\n",
            "F1-score (Multinomial Logistic Regression, 10 levels): 0.2898\n"
          ]
        },
        {
          "name": "stderr",
          "output_type": "stream",
          "text": [
            "c:\\Users\\ASUS\\anaconda3\\lib\\site-packages\\sklearn\\metrics\\_classification.py:1318: UndefinedMetricWarning: Precision is ill-defined and being set to 0.0 in labels with no predicted samples. Use `zero_division` parameter to control this behavior.\n",
            "  _warn_prf(average, modifier, msg_start, len(result))\n"
          ]
        }
      ],
      "source": [
        "# Your code goes here!\n",
        "\n",
        "from sklearn.preprocessing import KBinsDiscretizer\n",
        "from sklearn.metrics import accuracy_score, precision_score, recall_score, f1_score\n",
        "from sklearn.model_selection import train_test_split\n",
        "from sklearn.preprocessing import StandardScaler\n",
        "\n",
        "# Load dataset\n",
        "data = pd.read_csv('Q2/Logistic_question.csv')\n",
        "X = data.drop('Target', axis=1).values  \n",
        "y = data['Target'].values  \n",
        "\n",
        "for i in range(2, 11):\n",
        "    discretizer = KBinsDiscretizer(n_bins=i, encode='ordinal', strategy='uniform')\n",
        "    y_quantized = discretizer.fit_transform(y.reshape(-1, 1)).ravel()\n",
        "\n",
        "    y_quantized = y_quantized.astype(int)\n",
        "\n",
        "    X_train, X_test, y_train, y_test = train_test_split(X, y_quantized, test_size=0.2, random_state=42)\n",
        "\n",
        "    # Normalize\n",
        "    normalizer = StandardScaler()\n",
        "    X_train = normalizer.fit_transform(X_train)\n",
        "    X_test = normalizer.transform(X_test)\n",
        "\n",
        "    model = MyMultinomialLogisticRegression()\n",
        "\n",
        "    model.fit(X_train, y_train)\n",
        "\n",
        "    y_pred = model.predict(X_test)\n",
        "\n",
        "    accuracy = accuracy_score(y_test, y_pred)\n",
        "    precision = precision_score(y_test, y_pred, average='weighted')\n",
        "    recall = recall_score(y_test, y_pred, average='weighted')\n",
        "    f1 = f1_score(y_test, y_pred, average='weighted')\n",
        "    print(f\"Accuracy (Multinomial Logistic Regression, {i} levels): {accuracy:.4f}\")\n",
        "    print(f\"Precision (Multinomial Logistic Regression, {i} levels): {precision:.4f}\")\n",
        "    print(f\"Recall (Multinomial Logistic Regression, {i} levels): {recall:.4f}\")\n",
        "    print(f\"F1-score (Multinomial Logistic Regression, {i} levels): {f1:.4f}\")"
      ]
    },
    {
      "cell_type": "markdown",
      "metadata": {
        "id": "Of2sHl5Z4dXi"
      },
      "source": [
        "**Question:** Report for which $i$ your model performs best. Describe and analyze the results! You could use visualizations or any other method!"
      ]
    },
    {
      "cell_type": "markdown",
      "metadata": {
        "id": "cRLERDAr4wnS"
      },
      "source": [
        "**Your answer:** \n",
        "Based on the output, the model performs best when $i$ is 2. This is determined by the highest accuracy, precision, recall, and F1-score values. \n",
        "\n",
        "Here are the metrics for $i$ = 2:\n",
        "- Accuracy: 0.8750\n",
        "- Precision: 0.8746\n",
        "- Recall: 0.8750\n",
        "- F1-score: 0.8723\n",
        "\n",
        "As $i$ increases, all of these metrics generally decrease, indicating that the model's performance worsens. This could be due to the model becoming more complex and overfitting the training data, or it could be that the additional levels in the multinomial logistic regression are not as distinct or well-represented in the data.\n",
        "\n",
        "The warnings about precision being ill-defined and set to 0.0 in labels with no predicted samples suggest that the model is not predicting some classes at all, which is a sign of poor performance on those classes."
      ]
    },
    {
      "cell_type": "markdown",
      "metadata": {
        "id": "wT43jGKV6CBZ"
      },
      "source": [
        "# Going a little further!"
      ]
    },
    {
      "cell_type": "markdown",
      "metadata": {
        "id": "Vo9uGo0R6GZo"
      },
      "source": [
        "First we download Adult income dataset from Kaggle! In order to do this create an account on this website, and create an API. A file named kaggle.json will be downloaded to your device. Then use the following code:"
      ]
    },
    {
      "cell_type": "code",
      "execution_count": 16,
      "metadata": {
        "colab": {
          "base_uri": "https://localhost:8080/",
          "height": 73
        },
        "id": "o-vrjYBF7u1E",
        "outputId": "b274bc6e-4c35-4ad8-f17b-9e69f7d92923"
      },
      "outputs": [],
      "source": [
        "#from google.colab import files\n",
        "#files.upload()  # Use this to select the kaggle.json file from your computer\n",
        "#!mkdir -p ~/.kaggle\n",
        "#!cp kaggle.json ~/.kaggle/\n",
        "#!chmod 600 ~/.kaggle/kaggle.json"
      ]
    },
    {
      "cell_type": "markdown",
      "metadata": {
        "id": "5i6u6_1v8ftX"
      },
      "source": [
        "Then use this code to automatically download the dataset into Colab."
      ]
    },
    {
      "cell_type": "code",
      "execution_count": 17,
      "metadata": {
        "colab": {
          "base_uri": "https://localhost:8080/"
        },
        "id": "XjyVaVKF29Hx",
        "outputId": "15d0b1a2-c806-4102-abbc-12545237e218"
      },
      "outputs": [],
      "source": [
        "#!kaggle datasets download -d wenruliu/adult-income-dataset\n",
        "#!unzip /content/adult-income-dataset.zip"
      ]
    },
    {
      "cell_type": "markdown",
      "metadata": {
        "id": "EXQnbZwt8rJK"
      },
      "source": [
        "**Task:** Determine the number of null entries!"
      ]
    },
    {
      "cell_type": "markdown",
      "metadata": {},
      "source": [
        "first see the dataset"
      ]
    },
    {
      "cell_type": "code",
      "execution_count": 23,
      "metadata": {},
      "outputs": [
        {
          "data": {
            "text/html": [
              "<div>\n",
              "<style scoped>\n",
              "    .dataframe tbody tr th:only-of-type {\n",
              "        vertical-align: middle;\n",
              "    }\n",
              "\n",
              "    .dataframe tbody tr th {\n",
              "        vertical-align: top;\n",
              "    }\n",
              "\n",
              "    .dataframe thead th {\n",
              "        text-align: right;\n",
              "    }\n",
              "</style>\n",
              "<table border=\"1\" class=\"dataframe\">\n",
              "  <thead>\n",
              "    <tr style=\"text-align: right;\">\n",
              "      <th></th>\n",
              "      <th>age</th>\n",
              "      <th>workclass</th>\n",
              "      <th>fnlwgt</th>\n",
              "      <th>education</th>\n",
              "      <th>educational-num</th>\n",
              "      <th>marital-status</th>\n",
              "      <th>occupation</th>\n",
              "      <th>relationship</th>\n",
              "      <th>race</th>\n",
              "      <th>gender</th>\n",
              "      <th>capital-gain</th>\n",
              "      <th>capital-loss</th>\n",
              "      <th>hours-per-week</th>\n",
              "      <th>native-country</th>\n",
              "      <th>income</th>\n",
              "    </tr>\n",
              "  </thead>\n",
              "  <tbody>\n",
              "    <tr>\n",
              "      <th>0</th>\n",
              "      <td>25</td>\n",
              "      <td>Private</td>\n",
              "      <td>226802</td>\n",
              "      <td>11th</td>\n",
              "      <td>7</td>\n",
              "      <td>Never-married</td>\n",
              "      <td>Machine-op-inspct</td>\n",
              "      <td>Own-child</td>\n",
              "      <td>Black</td>\n",
              "      <td>Male</td>\n",
              "      <td>0</td>\n",
              "      <td>0</td>\n",
              "      <td>40</td>\n",
              "      <td>United-States</td>\n",
              "      <td>&lt;=50K</td>\n",
              "    </tr>\n",
              "    <tr>\n",
              "      <th>1</th>\n",
              "      <td>38</td>\n",
              "      <td>Private</td>\n",
              "      <td>89814</td>\n",
              "      <td>HS-grad</td>\n",
              "      <td>9</td>\n",
              "      <td>Married-civ-spouse</td>\n",
              "      <td>Farming-fishing</td>\n",
              "      <td>Husband</td>\n",
              "      <td>White</td>\n",
              "      <td>Male</td>\n",
              "      <td>0</td>\n",
              "      <td>0</td>\n",
              "      <td>50</td>\n",
              "      <td>United-States</td>\n",
              "      <td>&lt;=50K</td>\n",
              "    </tr>\n",
              "    <tr>\n",
              "      <th>2</th>\n",
              "      <td>28</td>\n",
              "      <td>Local-gov</td>\n",
              "      <td>336951</td>\n",
              "      <td>Assoc-acdm</td>\n",
              "      <td>12</td>\n",
              "      <td>Married-civ-spouse</td>\n",
              "      <td>Protective-serv</td>\n",
              "      <td>Husband</td>\n",
              "      <td>White</td>\n",
              "      <td>Male</td>\n",
              "      <td>0</td>\n",
              "      <td>0</td>\n",
              "      <td>40</td>\n",
              "      <td>United-States</td>\n",
              "      <td>&gt;50K</td>\n",
              "    </tr>\n",
              "    <tr>\n",
              "      <th>3</th>\n",
              "      <td>44</td>\n",
              "      <td>Private</td>\n",
              "      <td>160323</td>\n",
              "      <td>Some-college</td>\n",
              "      <td>10</td>\n",
              "      <td>Married-civ-spouse</td>\n",
              "      <td>Machine-op-inspct</td>\n",
              "      <td>Husband</td>\n",
              "      <td>Black</td>\n",
              "      <td>Male</td>\n",
              "      <td>7688</td>\n",
              "      <td>0</td>\n",
              "      <td>40</td>\n",
              "      <td>United-States</td>\n",
              "      <td>&gt;50K</td>\n",
              "    </tr>\n",
              "    <tr>\n",
              "      <th>4</th>\n",
              "      <td>18</td>\n",
              "      <td>NaN</td>\n",
              "      <td>103497</td>\n",
              "      <td>Some-college</td>\n",
              "      <td>10</td>\n",
              "      <td>Never-married</td>\n",
              "      <td>NaN</td>\n",
              "      <td>Own-child</td>\n",
              "      <td>White</td>\n",
              "      <td>Female</td>\n",
              "      <td>0</td>\n",
              "      <td>0</td>\n",
              "      <td>30</td>\n",
              "      <td>United-States</td>\n",
              "      <td>&lt;=50K</td>\n",
              "    </tr>\n",
              "    <tr>\n",
              "      <th>...</th>\n",
              "      <td>...</td>\n",
              "      <td>...</td>\n",
              "      <td>...</td>\n",
              "      <td>...</td>\n",
              "      <td>...</td>\n",
              "      <td>...</td>\n",
              "      <td>...</td>\n",
              "      <td>...</td>\n",
              "      <td>...</td>\n",
              "      <td>...</td>\n",
              "      <td>...</td>\n",
              "      <td>...</td>\n",
              "      <td>...</td>\n",
              "      <td>...</td>\n",
              "      <td>...</td>\n",
              "    </tr>\n",
              "    <tr>\n",
              "      <th>48837</th>\n",
              "      <td>27</td>\n",
              "      <td>Private</td>\n",
              "      <td>257302</td>\n",
              "      <td>Assoc-acdm</td>\n",
              "      <td>12</td>\n",
              "      <td>Married-civ-spouse</td>\n",
              "      <td>Tech-support</td>\n",
              "      <td>Wife</td>\n",
              "      <td>White</td>\n",
              "      <td>Female</td>\n",
              "      <td>0</td>\n",
              "      <td>0</td>\n",
              "      <td>38</td>\n",
              "      <td>United-States</td>\n",
              "      <td>&lt;=50K</td>\n",
              "    </tr>\n",
              "    <tr>\n",
              "      <th>48838</th>\n",
              "      <td>40</td>\n",
              "      <td>Private</td>\n",
              "      <td>154374</td>\n",
              "      <td>HS-grad</td>\n",
              "      <td>9</td>\n",
              "      <td>Married-civ-spouse</td>\n",
              "      <td>Machine-op-inspct</td>\n",
              "      <td>Husband</td>\n",
              "      <td>White</td>\n",
              "      <td>Male</td>\n",
              "      <td>0</td>\n",
              "      <td>0</td>\n",
              "      <td>40</td>\n",
              "      <td>United-States</td>\n",
              "      <td>&gt;50K</td>\n",
              "    </tr>\n",
              "    <tr>\n",
              "      <th>48839</th>\n",
              "      <td>58</td>\n",
              "      <td>Private</td>\n",
              "      <td>151910</td>\n",
              "      <td>HS-grad</td>\n",
              "      <td>9</td>\n",
              "      <td>Widowed</td>\n",
              "      <td>Adm-clerical</td>\n",
              "      <td>Unmarried</td>\n",
              "      <td>White</td>\n",
              "      <td>Female</td>\n",
              "      <td>0</td>\n",
              "      <td>0</td>\n",
              "      <td>40</td>\n",
              "      <td>United-States</td>\n",
              "      <td>&lt;=50K</td>\n",
              "    </tr>\n",
              "    <tr>\n",
              "      <th>48840</th>\n",
              "      <td>22</td>\n",
              "      <td>Private</td>\n",
              "      <td>201490</td>\n",
              "      <td>HS-grad</td>\n",
              "      <td>9</td>\n",
              "      <td>Never-married</td>\n",
              "      <td>Adm-clerical</td>\n",
              "      <td>Own-child</td>\n",
              "      <td>White</td>\n",
              "      <td>Male</td>\n",
              "      <td>0</td>\n",
              "      <td>0</td>\n",
              "      <td>20</td>\n",
              "      <td>United-States</td>\n",
              "      <td>&lt;=50K</td>\n",
              "    </tr>\n",
              "    <tr>\n",
              "      <th>48841</th>\n",
              "      <td>52</td>\n",
              "      <td>Self-emp-inc</td>\n",
              "      <td>287927</td>\n",
              "      <td>HS-grad</td>\n",
              "      <td>9</td>\n",
              "      <td>Married-civ-spouse</td>\n",
              "      <td>Exec-managerial</td>\n",
              "      <td>Wife</td>\n",
              "      <td>White</td>\n",
              "      <td>Female</td>\n",
              "      <td>15024</td>\n",
              "      <td>0</td>\n",
              "      <td>40</td>\n",
              "      <td>United-States</td>\n",
              "      <td>&gt;50K</td>\n",
              "    </tr>\n",
              "  </tbody>\n",
              "</table>\n",
              "<p>48842 rows × 15 columns</p>\n",
              "</div>"
            ],
            "text/plain": [
              "       age     workclass  fnlwgt     education  educational-num  \\\n",
              "0       25       Private  226802          11th                7   \n",
              "1       38       Private   89814       HS-grad                9   \n",
              "2       28     Local-gov  336951    Assoc-acdm               12   \n",
              "3       44       Private  160323  Some-college               10   \n",
              "4       18           NaN  103497  Some-college               10   \n",
              "...    ...           ...     ...           ...              ...   \n",
              "48837   27       Private  257302    Assoc-acdm               12   \n",
              "48838   40       Private  154374       HS-grad                9   \n",
              "48839   58       Private  151910       HS-grad                9   \n",
              "48840   22       Private  201490       HS-grad                9   \n",
              "48841   52  Self-emp-inc  287927       HS-grad                9   \n",
              "\n",
              "           marital-status         occupation relationship   race  gender  \\\n",
              "0           Never-married  Machine-op-inspct    Own-child  Black    Male   \n",
              "1      Married-civ-spouse    Farming-fishing      Husband  White    Male   \n",
              "2      Married-civ-spouse    Protective-serv      Husband  White    Male   \n",
              "3      Married-civ-spouse  Machine-op-inspct      Husband  Black    Male   \n",
              "4           Never-married                NaN    Own-child  White  Female   \n",
              "...                   ...                ...          ...    ...     ...   \n",
              "48837  Married-civ-spouse       Tech-support         Wife  White  Female   \n",
              "48838  Married-civ-spouse  Machine-op-inspct      Husband  White    Male   \n",
              "48839             Widowed       Adm-clerical    Unmarried  White  Female   \n",
              "48840       Never-married       Adm-clerical    Own-child  White    Male   \n",
              "48841  Married-civ-spouse    Exec-managerial         Wife  White  Female   \n",
              "\n",
              "       capital-gain  capital-loss  hours-per-week native-country income  \n",
              "0                 0             0              40  United-States  <=50K  \n",
              "1                 0             0              50  United-States  <=50K  \n",
              "2                 0             0              40  United-States   >50K  \n",
              "3              7688             0              40  United-States   >50K  \n",
              "4                 0             0              30  United-States  <=50K  \n",
              "...             ...           ...             ...            ...    ...  \n",
              "48837             0             0              38  United-States  <=50K  \n",
              "48838             0             0              40  United-States   >50K  \n",
              "48839             0             0              40  United-States  <=50K  \n",
              "48840             0             0              20  United-States  <=50K  \n",
              "48841         15024             0              40  United-States   >50K  \n",
              "\n",
              "[48842 rows x 15 columns]"
            ]
          },
          "execution_count": 23,
          "metadata": {},
          "output_type": "execute_result"
        }
      ],
      "source": [
        "# Load the dataset\n",
        "df = pd.read_csv('Q2/adult.csv', na_values=\"?\")\n",
        "df"
      ]
    },
    {
      "cell_type": "code",
      "execution_count": 24,
      "metadata": {
        "colab": {
          "base_uri": "https://localhost:8080/"
        },
        "id": "JtuEx6QW29c1",
        "outputId": "43397bec-0622-4dc4-de2b-c65be00e4503"
      },
      "outputs": [
        {
          "name": "stdout",
          "output_type": "stream",
          "text": [
            "age                   0\n",
            "workclass          2799\n",
            "fnlwgt                0\n",
            "education             0\n",
            "educational-num       0\n",
            "marital-status        0\n",
            "occupation         2809\n",
            "relationship          0\n",
            "race                  0\n",
            "gender                0\n",
            "capital-gain          0\n",
            "capital-loss          0\n",
            "hours-per-week        0\n",
            "native-country      857\n",
            "income                0\n",
            "dtype: int64\n",
            "/ / / / / / / / / / / / / / / / \n",
            "\n",
            "Total number of null entries: \n",
            " 6465\n"
          ]
        }
      ],
      "source": [
        "# Your code goes here!\n",
        "\n",
        "import pandas as pd\n",
        "\n",
        "null_entries = df.isnull().sum()\n",
        "\n",
        "print(null_entries)\n",
        "\n",
        "null_entries = null_entries.sum()\n",
        "print(\"/ / / / / / / / / / / / / / / / \\n\")\n",
        "print(f'Total number of null entries: \\n {null_entries}')"
      ]
    },
    {
      "cell_type": "markdown",
      "metadata": {
        "id": "JpEcBdTUAYVN"
      },
      "source": [
        "**Question:** In many widely used datasets there are a lot of null entries. Propose 5 methods by which, one could deal with this problem. Briefly explain how do you decide which one to use in this problem."
      ]
    },
    {
      "cell_type": "markdown",
      "metadata": {
        "id": "l1u1pBHuAsSg"
      },
      "source": [
        "**Your answer:**\n",
        "\n",
        "1. **Drop the rows with null values**: This is the simplest approach. However, it can lead to loss of information if the dataset isn't large or if many rows contain at least one null value.\n",
        "\n",
        "2. **Drop the columns with null values**: If a particular feature (column) has a high percentage of null values, it might be best to completely remove that feature.\n",
        "\n",
        "3. **Imputation with mean/median/mode**: Replace the null values with the mean (for continuous data), median (for ordinal data), or mode (for categorical data). This method is quick and easy but can lead to incorrect estimations if the data isn't normally distributed.\n",
        "\n",
        "4. **Imputation using predictive models**: Use models like k-Nearest Neighbors or regression to predict the missing values. This can be more accurate than mean/median/mode imputation, but it's also more complex and computationally expensive.\n",
        "\n",
        "5. **Imputation using a constant value**: Replace the null values with a constant value. This is typically used when we can assume a reasonable default value for the missing data.\n",
        "\n",
        "Choosing the right method depends on the nature of our data and the specific problem we're trying to solve. Here are some factors to consider:\n",
        "\n",
        "- **Amount of data**: If we have a lot of data, dropping rows or columns with null values might be feasible. If not, we'll likely want to use some form of imputation.\n",
        "\n",
        "- **Percentage of null values in a column**: If a column has a high percentage of null values, it might be best to drop it entirely.\n",
        "\n",
        "- **Distribution of data**: If the data is normally distributed, mean imputation might be a good choice. If not, median or mode imputation might be better.\n",
        "\n",
        "- **Complexity of the data**: If our data is complex and contains patterns that simple imputation methods might not capture, using a predictive model might be the best choice.\n",
        "\n",
        "- **Computational resources**: More complex methods like predictive modeling require more computational resources. If resources are limited, a simpler method might be more feasible.\n"
      ]
    },
    {
      "cell_type": "markdown",
      "metadata": {
        "id": "eHhH-hkpAxFf"
      },
      "source": [
        "**Task:** Handle null entries using your best method."
      ]
    },
    {
      "cell_type": "code",
      "execution_count": 26,
      "metadata": {
        "colab": {
          "base_uri": "https://localhost:8080/",
          "height": 206
        },
        "id": "5fVwWcjK29fk",
        "outputId": "c21a6adf-1e6c-46d0-dd61-79d1710272c1"
      },
      "outputs": [
        {
          "name": "stdout",
          "output_type": "stream",
          "text": [
            "age                0\n",
            "workclass          0\n",
            "fnlwgt             0\n",
            "education          0\n",
            "educational-num    0\n",
            "marital-status     0\n",
            "occupation         0\n",
            "relationship       0\n",
            "race               0\n",
            "gender             0\n",
            "capital-gain       0\n",
            "capital-loss       0\n",
            "hours-per-week     0\n",
            "native-country     0\n",
            "income             0\n",
            "dtype: int64\n",
            "/ / / / / / / / / / / / / / / / \n",
            "\n",
            "Total number of null entries: \n",
            " 0\n"
          ]
        }
      ],
      "source": [
        "# Your code goes here!\n",
        "\n",
        "for col in df.select_dtypes(include=['float', 'int']):\n",
        "    df[col] = df[col].fillna(df[col].mean())\n",
        "\n",
        "for col in df.select_dtypes(include=['object']):\n",
        "    df[col] = df[col].fillna(df[col].mode()[0])\n",
        "\n",
        "print(df.isnull().sum())\n",
        "print(\"/ / / / / / / / / / / / / / / / \\n\")\n",
        "print(f'Total number of null entries: \\n {df.isnull().sum().sum()}')"
      ]
    },
    {
      "cell_type": "markdown",
      "metadata": {
        "id": "43k5cTorCJaV"
      },
      "source": [
        "**Task:** Convert categorical features to numerical values. Split the dataset with 80-20 portion. Normalize all the data using X_train. Use the built-in Logistic Regression function and GridSearchCV to train your model, and report the parameters, train and test accuracy of the best model."
      ]
    },
    {
      "cell_type": "code",
      "execution_count": 51,
      "metadata": {},
      "outputs": [
        {
          "name": "stdout",
          "output_type": "stream",
          "text": [
            "Best Param: {'C': 0.1}\n",
            "Train Accuracy: 0.8243543381705262\n",
            "Test Accuracy: 0.8276179752277613\n"
          ]
        }
      ],
      "source": [
        "from sklearn.preprocessing import LabelEncoder, StandardScaler\n",
        "from sklearn.model_selection import GridSearchCV, train_test_split\n",
        "from sklearn.metrics import accuracy_score\n",
        "from sklearn.linear_model import LogisticRegression\n",
        "\n",
        "# Load the data\n",
        "dataset = pd.read_csv('Q2/adult.csv')\n",
        "\n",
        "label_encoder = LabelEncoder()\n",
        "\n",
        "categorical_cols = dataset.select_dtypes(include=['object']).columns\n",
        "dataset[categorical_cols] = dataset[categorical_cols].apply(lambda col: label_encoder.fit_transform(col))\n",
        "\n",
        "features = dataset.drop(columns=['income'])\n",
        "target = dataset['income']\n",
        "\n",
        "features_train, features_test, target_train, target_test = train_test_split(features, target, test_size=0.2, random_state=42)\n",
        "\n",
        "scaler = StandardScaler()\n",
        "features_train = scaler.fit_transform(features_train)\n",
        "features_test = scaler.transform(features_test)\n",
        "\n",
        "parameters = {'C': [0.001, 0.01, 0.1, 1, 10, 100]}\n",
        "\n",
        "grid_search_cv = GridSearchCV(LogisticRegression(max_iter=1000), parameters, cv=5)\n",
        "grid_search_cv.fit(features_train, target_train)\n",
        "\n",
        "print(f\"Best Param: {grid_search_cv.best_params_}\")\n",
        "print(f\"Train Accuracy: {grid_search_cv.best_score_}\")\n",
        "\n",
        "best_model = grid_search_cv.best_estimator_\n",
        "target_train_pred = best_model.predict(features_train)\n",
        "train_acc = accuracy_score(target_train, target_train_pred)\n",
        "\n",
        "print(f\"Test Accuracy: {grid_search_cv.score(features_test, target_test)}\")"
      ]
    },
    {
      "cell_type": "markdown",
      "metadata": {
        "id": "6Lzr2lqXDQ1T"
      },
      "source": [
        "**Task:** To try a different route, split X_train into $i$ parts, and train $i$ separate models on these parts. Now propose and implement 3 different *ensemble methods* to derive the global models' prediction for X_test using the results(not necessarily predictions!) of the $i$ models. Firstly, set $i=10$ to find the method with the best test accuracy(the answer is not general!). You must Use your own Logistic Regression model.(You might want to modify it a little bit for this part!)"
      ]
    },
    {
      "cell_type": "code",
      "execution_count": 59,
      "metadata": {
        "id": "K9D1jlstF9nF"
      },
      "outputs": [
        {
          "name": "stdout",
          "output_type": "stream",
          "text": [
            "Accuracy with Majority Vote: 0.8278227044733341\n",
            "Accuracy with Mean Probability: 0.8274132459821886\n",
            "Accuracy with Weighted Vote: 0.8274132459821886\n",
            "Best method: Majority Vote (Accuracy: 0.8278227044733341)\n"
          ]
        }
      ],
      "source": [
        "import pandas as pd\n",
        "from sklearn.model_selection import train_test_split\n",
        "from sklearn.preprocessing import StandardScaler, LabelEncoder\n",
        "from sklearn.linear_model import LogisticRegression\n",
        "from sklearn.metrics import accuracy_score\n",
        "import numpy as np\n",
        "\n",
        "# Load data\n",
        "dataframe = pd.read_csv('Q2/adult.csv')\n",
        "label_enc = LabelEncoder()\n",
        "categorical_cols = dataframe.select_dtypes(include=['object']).columns\n",
        "dataframe[categorical_cols] = dataframe[categorical_cols].apply(lambda col: label_enc.fit_transform(col))\n",
        "\n",
        "features = dataframe.drop('income', axis=1)\n",
        "target = dataframe['income']\n",
        "\n",
        "features_train, features_test, target_train, target_test = train_test_split(features, target, test_size=0.2, random_state=42)\n",
        "\n",
        "normalizer = StandardScaler()\n",
        "features_train = normalizer.fit_transform(features_train)\n",
        "features_test = normalizer.transform(features_test)\n",
        "\n",
        "model_quantity = 10\n",
        "model_storage = []\n",
        "for index in range(model_quantity):\n",
        "    start, end = index * len(features_train) // model_quantity, (index + 1) * len(features_train) // model_quantity\n",
        "    logistic_reg = LogisticRegression(max_iter=1000)\n",
        "    logistic_reg.fit(features_train[start:end], target_train.iloc[start:end])\n",
        "    model_storage.append(logistic_reg)\n",
        "\n",
        "methods = {\n",
        "    'Majority Vote': lambda models, X: np.mean([model.predict(X) for model in models], axis=0) >= 0.5,\n",
        "    'Mean Probability': lambda models, X: np.argmax(np.mean([model.predict_proba(X) for model in models], axis=0), axis=1),\n",
        "    'Weighted Vote': lambda models, X: np.average([model.predict(X) for model in models], axis=0, weights=np.arange(1, model_quantity + 1)) >= 0.5\n",
        "}\n",
        "\n",
        "best_accuracy, best_method = 0, None\n",
        "for method_name, method_func in methods.items():\n",
        "    accuracy = accuracy_score(target_test, method_func(model_storage, features_test))\n",
        "    print(f\"Accuracy with {method_name}: {accuracy}\")\n",
        "    if accuracy > best_accuracy:\n",
        "        best_accuracy, best_method = accuracy, method_name\n",
        "\n",
        "print(f\"Best method: {best_method} (Accuracy: {best_accuracy})\")"
      ]
    },
    {
      "cell_type": "markdown",
      "metadata": {
        "id": "9QS9HYJ5FW1T"
      },
      "source": [
        "**Question:** Explain your proposed methods and the reason you decided to use them!"
      ]
    },
    {
      "cell_type": "markdown",
      "metadata": {
        "id": "6hCBQuAeF46a"
      },
      "source": [
        "**Your answer:**\n",
        "\n",
        "1. **Majority Vote:** This method involves having each model in the ensemble vote on the output for each input. The output that gets the majority of votes is chosen as the final output. This method is based on the assumption that the majority of the models in the ensemble are more likely to be correct than incorrect, so their collective decision is likely to be the correct one.\n",
        "\n",
        "2. **Mean Probability:** This method involves calculating the mean of the probabilities predicted by each model in the ensemble for each possible output, and then choosing the output with the highest mean probability as the final output. This method takes into account not just the most common output, but also how confident each model is in its prediction.\n",
        "\n",
        "3. **Weighted Vote:** This method is a variation of the majority vote method, but instead of each model's vote having the same weight, the votes are weighted according to some criteria. In this case, the weights are simply the indices of the models (plus one), so later models in the list have more weight. This could be useful if the models are ordered in some meaningful way, such as by their individual performance.\n",
        "\n",
        "These methods were chosen because they are common and simple ways to combine the predictions of multiple models into a single prediction. They each have their own strengths and weaknesses, and can perform differently depending on the specifics of the problem and the models being used."
      ]
    },
    {
      "cell_type": "markdown",
      "metadata": {
        "id": "jjSREvg4FTHf"
      },
      "source": [
        "**Task:** Now, for your best method, change $i$ from 2 to 100 and report $i$, train and test accuracy of the best model. Also, plot test and train accuracy for $2\\leq i\\leq100$."
      ]
    },
    {
      "cell_type": "code",
      "execution_count": 60,
      "metadata": {
        "id": "tfKS-Jq0-v4P"
      },
      "outputs": [
        {
          "name": "stdout",
          "output_type": "stream",
          "text": [
            "Number of models: 2, Train accuracy: 0.8232795024697361, Test accuracy: 0.8267990582454704\n",
            "Number of models: 3, Train accuracy: 0.8244823791364881, Test accuracy: 0.8277203398505476\n",
            "Number of models: 4, Train accuracy: 0.8244055997747806, Test accuracy: 0.8274132459821886\n",
            "Number of models: 5, Train accuracy: 0.8247639034627492, Test accuracy: 0.8277203398505476\n",
            "Number of models: 6, Train accuracy: 0.8242264479307962, Test accuracy: 0.8277203398505476\n",
            "Number of models: 7, Train accuracy: 0.8245591584981957, Test accuracy: 0.8273108813594022\n",
            "Number of models: 8, Train accuracy: 0.824610344739334, Test accuracy: 0.8277203398505476\n",
            "Number of models: 9, Train accuracy: 0.8245335653776265, Test accuracy: 0.8275156106049749\n",
            "Number of models: 10, Train accuracy: 0.8245847516187649, Test accuracy: 0.8278227044733341\n",
            "Number of models: 11, Train accuracy: 0.82473831034218, Test accuracy: 0.8279250690961204\n",
            "Number of models: 12, Train accuracy: 0.8243544135336421, Test accuracy: 0.8265943289998976\n",
            "Number of models: 13, Train accuracy: 0.8244055997747806, Test accuracy: 0.8270037874910431\n",
            "Number of models: 14, Train accuracy: 0.8243032272925038, Test accuracy: 0.8278227044733341\n",
            "Number of models: 15, Train accuracy: 0.8249430553067335, Test accuracy: 0.8274132459821886\n",
            "Number of models: 16, Train accuracy: 0.8239193304839659, Test accuracy: 0.8278227044733341\n",
            "Number of models: 17, Train accuracy: 0.8247639034627492, Test accuracy: 0.8275156106049749\n",
            "Number of models: 18, Train accuracy: 0.8241752616896578, Test accuracy: 0.8282321629644794\n",
            "Number of models: 19, Train accuracy: 0.8244823791364881, Test accuracy: 0.8273108813594022\n",
            "Number of models: 20, Train accuracy: 0.824200854810227, Test accuracy: 0.8272085167366158\n",
            "Number of models: 21, Train accuracy: 0.8242264479307962, Test accuracy: 0.8269014228682567\n",
            "Number of models: 22, Train accuracy: 0.8238681442428275, Test accuracy: 0.8262872351315386\n",
            "Number of models: 23, Train accuracy: 0.8242520410513654, Test accuracy: 0.8272085167366158\n",
            "Number of models: 24, Train accuracy: 0.8237401786399816, Test accuracy: 0.8276179752277613\n",
            "Number of models: 25, Train accuracy: 0.8244567860159189, Test accuracy: 0.8269014228682567\n",
            "Number of models: 26, Train accuracy: 0.8242520410513654, Test accuracy: 0.8279250690961204\n",
            "Number of models: 27, Train accuracy: 0.8245591584981957, Test accuracy: 0.826696693622684\n",
            "Number of models: 28, Train accuracy: 0.8243032272925038, Test accuracy: 0.8271061521138294\n",
            "Number of models: 29, Train accuracy: 0.824200854810227, Test accuracy: 0.8264919643771113\n",
            "Number of models: 30, Train accuracy: 0.8240217029662427, Test accuracy: 0.8272085167366158\n",
            "Number of models: 31, Train accuracy: 0.8246615309804725, Test accuracy: 0.8269014228682567\n",
            "Number of models: 32, Train accuracy: 0.8241752616896578, Test accuracy: 0.8271061521138294\n",
            "Number of models: 33, Train accuracy: 0.8241752616896578, Test accuracy: 0.8277203398505476\n",
            "Number of models: 34, Train accuracy: 0.8242520410513654, Test accuracy: 0.8276179752277613\n",
            "Number of models: 35, Train accuracy: 0.824610344739334, Test accuracy: 0.8278227044733341\n",
            "Number of models: 36, Train accuracy: 0.8240472960868118, Test accuracy: 0.8276179752277613\n",
            "Number of models: 37, Train accuracy: 0.8237913648811199, Test accuracy: 0.8259801412631794\n",
            "Number of models: 38, Train accuracy: 0.82473831034218, Test accuracy: 0.8278227044733341\n",
            "Number of models: 39, Train accuracy: 0.8245591584981957, Test accuracy: 0.8264919643771113\n",
            "Number of models: 40, Train accuracy: 0.8236889923988432, Test accuracy: 0.8274132459821886\n",
            "Number of models: 41, Train accuracy: 0.8242264479307962, Test accuracy: 0.8279250690961204\n",
            "Number of models: 42, Train accuracy: 0.8236889923988432, Test accuracy: 0.826696693622684\n",
            "Number of models: 43, Train accuracy: 0.8243544135336421, Test accuracy: 0.8280274337189067\n",
            "Number of models: 44, Train accuracy: 0.8235610267959972, Test accuracy: 0.8282321629644794\n",
            "Number of models: 45, Train accuracy: 0.8235866199165665, Test accuracy: 0.8262872351315386\n",
            "Number of models: 46, Train accuracy: 0.8242520410513654, Test accuracy: 0.8279250690961204\n",
            "Number of models: 47, Train accuracy: 0.8234586543137205, Test accuracy: 0.8271061521138294\n",
            "Number of models: 48, Train accuracy: 0.8238169580016892, Test accuracy: 0.8272085167366158\n",
            "Number of models: 49, Train accuracy: 0.8241496685690887, Test accuracy: 0.8270037874910431\n",
            "Number of models: 50, Train accuracy: 0.8241240754485194, Test accuracy: 0.8275156106049749\n",
            "Number of models: 51, Train accuracy: 0.8239705167251042, Test accuracy: 0.8282321629644794\n",
            "Number of models: 52, Train accuracy: 0.824200854810227, Test accuracy: 0.8277203398505476\n",
            "Number of models: 53, Train accuracy: 0.8238169580016892, Test accuracy: 0.8271061521138294\n",
            "Number of models: 54, Train accuracy: 0.824200854810227, Test accuracy: 0.8273108813594022\n",
            "Number of models: 55, Train accuracy: 0.8244055997747806, Test accuracy: 0.8270037874910431\n",
            "Number of models: 56, Train accuracy: 0.8237913648811199, Test accuracy: 0.8281297983416931\n",
            "Number of models: 57, Train accuracy: 0.8245591584981957, Test accuracy: 0.8274132459821886\n",
            "Number of models: 58, Train accuracy: 0.8240217029662427, Test accuracy: 0.8274132459821886\n",
            "Number of models: 59, Train accuracy: 0.8241496685690887, Test accuracy: 0.8272085167366158\n",
            "Number of models: 60, Train accuracy: 0.8236122130371356, Test accuracy: 0.8271061521138294\n",
            "Number of models: 61, Train accuracy: 0.8242520410513654, Test accuracy: 0.8276179752277613\n",
            "Number of models: 62, Train accuracy: 0.8237913648811199, Test accuracy: 0.826696693622684\n",
            "Number of models: 63, Train accuracy: 0.8233306887108746, Test accuracy: 0.8274132459821886\n",
            "Number of models: 64, Train accuracy: 0.8237657717605508, Test accuracy: 0.8280274337189067\n",
            "Number of models: 65, Train accuracy: 0.8240728892073811, Test accuracy: 0.8281297983416931\n",
            "Number of models: 66, Train accuracy: 0.8244055997747806, Test accuracy: 0.8284368922100522\n",
            "Number of models: 67, Train accuracy: 0.8240728892073811, Test accuracy: 0.8284368922100522\n",
            "Number of models: 68, Train accuracy: 0.8239449236045351, Test accuracy: 0.8280274337189067\n",
            "Number of models: 69, Train accuracy: 0.8240984823279502, Test accuracy: 0.8280274337189067\n",
            "Number of models: 70, Train accuracy: 0.8238169580016892, Test accuracy: 0.8277203398505476\n",
            "Number of models: 71, Train accuracy: 0.8238425511222583, Test accuracy: 0.8271061521138294\n",
            "Number of models: 72, Train accuracy: 0.8237145855194123, Test accuracy: 0.8273108813594022\n",
            "Number of models: 73, Train accuracy: 0.8237145855194123, Test accuracy: 0.8272085167366158\n",
            "Number of models: 74, Train accuracy: 0.8236378061577048, Test accuracy: 0.8275156106049749\n",
            "Number of models: 75, Train accuracy: 0.8235098405548589, Test accuracy: 0.8290510799467704\n",
            "Number of models: 76, Train accuracy: 0.8241496685690887, Test accuracy: 0.8284368922100522\n",
            "Number of models: 77, Train accuracy: 0.8238425511222583, Test accuracy: 0.8292558091923431\n",
            "Number of models: 78, Train accuracy: 0.8244055997747806, Test accuracy: 0.8273108813594022\n",
            "Number of models: 79, Train accuracy: 0.8238169580016892, Test accuracy: 0.8281297983416931\n",
            "Number of models: 80, Train accuracy: 0.8235610267959972, Test accuracy: 0.8284368922100522\n",
            "Number of models: 81, Train accuracy: 0.8235866199165665, Test accuracy: 0.8280274337189067\n",
            "Number of models: 82, Train accuracy: 0.824328820413073, Test accuracy: 0.8286416214556249\n",
            "Number of models: 83, Train accuracy: 0.8237401786399816, Test accuracy: 0.8276179752277613\n",
            "Number of models: 84, Train accuracy: 0.8237401786399816, Test accuracy: 0.8286416214556249\n",
            "Number of models: 85, Train accuracy: 0.8245079722570573, Test accuracy: 0.8290510799467704\n",
            "Number of models: 86, Train accuracy: 0.8235866199165665, Test accuracy: 0.8279250690961204\n",
            "Number of models: 87, Train accuracy: 0.8239193304839659, Test accuracy: 0.8276179752277613\n",
            "Number of models: 88, Train accuracy: 0.8243032272925038, Test accuracy: 0.8280274337189067\n",
            "Number of models: 89, Train accuracy: 0.8240217029662427, Test accuracy: 0.8287439860784113\n",
            "Number of models: 90, Train accuracy: 0.8239193304839659, Test accuracy: 0.8276179752277613\n",
            "Number of models: 91, Train accuracy: 0.8234330611931513, Test accuracy: 0.8273108813594022\n",
            "Number of models: 92, Train accuracy: 0.8237401786399816, Test accuracy: 0.8283345275872659\n",
            "Number of models: 93, Train accuracy: 0.8239193304839659, Test accuracy: 0.8283345275872659\n",
            "Number of models: 94, Train accuracy: 0.8235098405548589, Test accuracy: 0.8280274337189067\n",
            "Number of models: 95, Train accuracy: 0.8235098405548589, Test accuracy: 0.8286416214556249\n",
            "Number of models: 96, Train accuracy: 0.8239449236045351, Test accuracy: 0.8278227044733341\n",
            "Number of models: 97, Train accuracy: 0.8238681442428275, Test accuracy: 0.8280274337189067\n",
            "Number of models: 98, Train accuracy: 0.8237145855194123, Test accuracy: 0.8270037874910431\n",
            "Number of models: 99, Train accuracy: 0.8240984823279502, Test accuracy: 0.8284368922100522\n",
            "Number of models: 100, Train accuracy: 0.8234330611931513, Test accuracy: 0.8280274337189067\n"
          ]
        },
        {
          "data": {
            "image/png": "[encoded data removed]",
            "text/plain": [
              "<Figure size 1000x500 with 1 Axes>"
            ]
          },
          "metadata": {},
          "output_type": "display_data"
        }
      ],
      "source": [
        "# Your code goes here!\n",
        "\n",
        "train_accuracies = []\n",
        "test_accuracies = []\n",
        "\n",
        "for i in range(2, 101):\n",
        "    model_storage = []\n",
        "    for index in range(i):\n",
        "        start, end = index * len(features_train) // i, (index + 1) * len(features_train) // i\n",
        "        logistic_reg = LogisticRegression(max_iter=1000)\n",
        "        logistic_reg.fit(features_train[start:end], target_train.iloc[start:end])\n",
        "        model_storage.append(logistic_reg)\n",
        "\n",
        "    majority_vote = lambda models, X: np.mean([model.predict(X) for model in models], axis=0) >= 0.5\n",
        "\n",
        "    train_accuracy = accuracy_score(target_train, majority_vote(model_storage, features_train))\n",
        "    test_accuracy = accuracy_score(target_test, majority_vote(model_storage, features_test))\n",
        "    train_accuracies.append(train_accuracy)\n",
        "    test_accuracies.append(test_accuracy)\n",
        "\n",
        "    print(f\"Number of models: {i}, Train accuracy: {train_accuracy}, Test accuracy: {test_accuracy}\")\n",
        "\n",
        "plt.figure(figsize=(10, 5))\n",
        "plt.plot(range(2, 101), train_accuracies, label='Train Accuracy')\n",
        "plt.plot(range(2, 101), test_accuracies, label='Test Accuracy')\n",
        "plt.xlabel('Number of Models')\n",
        "plt.ylabel('Accuracy')\n",
        "plt.legend()\n",
        "plt.grid(True)\n",
        "plt.show()"
      ]
    },
    {
      "cell_type": "markdown",
      "metadata": {
        "id": "BWV0YUgRGg1p"
      },
      "source": [
        "**Question:** Analyze the results."
      ]
    },
    {
      "cell_type": "markdown",
      "metadata": {},
      "source": [
        "**Your Answer:**\n",
        "as we can see from the output of the code the value of Accuracy doesn't change in big orders. also it isn't increasing or decreasing at all, and it increases and decreases versus increasing number of models. we can see that the maximum accuracy occurs at number of models : 77 and the maximum accuracy is : 0.8292558091923431 "
      ]
    },
    {
      "cell_type": "markdown",
      "metadata": {},
      "source": []
    }
  ],
  "metadata": {
    "colab": {
      "provenance": []
    },
    "kernelspec": {
      "display_name": "Python 3",
      "name": "python3"
    },
    "language_info": {
      "codemirror_mode": {
        "name": "ipython",
        "version": 3
      },
      "file_extension": ".py",
      "mimetype": "text/x-python",
      "name": "python",
      "nbconvert_exporter": "python",
      "pygments_lexer": "ipython3",
      "version": "3.9.13"
    }
  },
  "nbformat": 4,
  "nbformat_minor": 0
}
